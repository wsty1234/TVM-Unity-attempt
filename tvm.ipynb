{
 "cells": [
  {
   "cell_type": "code",
   "execution_count": 1,
   "metadata": {},
   "outputs": [],
   "source": [
    "import onnx\n",
    "from tvm.contrib.download import download_testdata\n",
    "from PIL import Image\n",
    "import numpy as np\n",
    "from tvm import relax\n",
    "from tvm.script import tir as T\n",
    "from tvm.script import relax as R   \n",
    "import tvm\n",
    "from tvm.contrib import graph_executor"
   ]
  },
  {
   "cell_type": "code",
   "execution_count": 2,
   "metadata": {},
   "outputs": [],
   "source": [
    "import torch\n",
    "import torchvision"
   ]
  },
  {
   "cell_type": "code",
   "execution_count": 3,
   "metadata": {},
   "outputs": [],
   "source": [
    "from torch import fx"
   ]
  },
  {
   "cell_type": "code",
   "execution_count": null,
   "metadata": {},
   "outputs": [],
   "source": [
    "model_name = \"resnet50\"\n",
    "model = getattr(torchvision.models, model_name)(pretrained=True)\n",
    "model = model.eval()\n",
    "\n",
    "# We grab the TorchScripted model via tracing\n",
    "input_shape = [1, 3, 224, 224]\n",
    "input_data = torch.randn(input_shape)\n",
    "scripted_model = torch.jit.trace(model, input_data).eval()\n",
    "\n",
    "from PIL import Image\n",
    "\n",
    "img_url = \"https://github.com/dmlc/mxnet.js/blob/main/data/cat.png?raw=true\"\n",
    "img_path = download_testdata(img_url, \"cat.png\", module=\"data\")\n",
    "print(img_path)\n",
    "img = Image.open(img_path).resize((224, 224))\n",
    "\n",
    "# Preprocess the image and convert to tensor\n",
    "from torchvision import transforms\n",
    "\n",
    "\n",
    "my_preprocess = transforms.Compose(\n",
    "    [\n",
    "        transforms.Resize(256),\n",
    "        transforms.CenterCrop(224),\n",
    "        transforms.ToTensor(),\n",
    "        transforms.Normalize(mean=[0.485, 0.456, 0.406], std=[0.229, 0.224, 0.225]),\n",
    "    ]\n",
    ")\n",
    "img = my_preprocess(img)\n",
    "img = np.expand_dims(img, 0)"
   ]
  },
  {
   "cell_type": "code",
   "execution_count": 5,
   "metadata": {},
   "outputs": [],
   "source": [
    "from tvm.relax.frontend.torch import from_fx"
   ]
  },
  {
   "cell_type": "code",
   "execution_count": null,
   "metadata": {},
   "outputs": [],
   "source": [
    "input_info = [([1,3,244,244], \"float32\")]\n",
    "with torch.no_grad():\n",
    "    fx_module = fx.symbolic_trace(model)\n",
    "    mod_from_torch = from_fx(fx_module, input_info, keep_params_as_input=True)"
   ]
  },
  {
   "cell_type": "code",
   "execution_count": 7,
   "metadata": {},
   "outputs": [],
   "source": [
    "mod_from_torch, params_from_torch = relax.frontend.detach_params(mod_from_torch)"
   ]
  },
  {
   "cell_type": "code",
   "execution_count": 8,
   "metadata": {},
   "outputs": [],
   "source": [
    "from tvm import meta_schedule as ms"
   ]
  },
  {
   "cell_type": "code",
   "execution_count": 9,
   "metadata": {},
   "outputs": [],
   "source": [
    "mod = relax.get_pipeline(\"zero\")(mod_from_torch)"
   ]
  },
  {
   "cell_type": "code",
   "execution_count": 10,
   "metadata": {},
   "outputs": [],
   "source": [
    "l = list(mod.get_global_vars())\n",
    "mod_list =[]\n",
    "for i in range(len(l)):\n",
    "    mod_list.append(str(mod.get_global_vars()[i]))\n",
    "mod_list = list(map(lambda x : x.split('\"')[-2], mod_list))\n",
    "mod_list.remove(\"main\")"
   ]
  },
  {
   "cell_type": "code",
   "execution_count": null,
   "metadata": {},
   "outputs": [],
   "source": [
    "mod_list_ins = list(map(lambda x : tvm.IRModule.from_expr(mod[x].with_attr(\"global_symbol\", \"main\")) , mod_list))"
   ]
  },
  {
   "cell_type": "code",
   "execution_count": 11,
   "metadata": {},
   "outputs": [],
   "source": [
    "nd_params = {k : tvm.nd.array(v.detach().numpy()) for k,v in model.named_parameters()}"
   ]
  },
  {
   "cell_type": "code",
   "execution_count": 12,
   "metadata": {},
   "outputs": [],
   "source": [
    "mod2 = mod"
   ]
  },
  {
   "cell_type": "code",
   "execution_count": null,
   "metadata": {},
   "outputs": [],
   "source": [
    "database = ms.tune_tir(\n",
    "        mod=mod2,\n",
    "        target=\"llvm --num-cores=8\",\n",
    "        max_trials_global=600,\n",
    "        num_trials_per_iter=10,\n",
    "        work_dir=\"./tune_tmp\",\n",
    "        runner = ms.runner.LocalRunner(\n",
    "          evaluator_config=ms.runner.EvaluatorConfig(),\n",
    "          alloc_repeat=1,\n",
    "        ),\n",
    "        cost_model=ms.cost_model.XGBModel(  \n",
    "                extractor=ms.feature_extractor.PerStoreFeature(),\n",
    "                adaptive_training=True,\n",
    "        ),\n",
    "        strategy=ms.search_strategy.EvolutionarySearch(),\n",
    ")"
   ]
  },
  {
   "cell_type": "code",
   "execution_count": 20,
   "metadata": {},
   "outputs": [],
   "source": [
    "MyMod2 = relax.transform.BindParams(\"main\", nd_params)(mod2)\n",
    "for i in range(len(mod_list)):\n",
    "    mod_str = mod_list[i]\n",
    "    sch = ms.tir_integration.compile_tir(database, mod2[mod_str], \"llvm --num-cores=8\")\n",
    "    if(sch == None):\n",
    "        print(1)\n",
    "        continue\n",
    "    new_func = sch.mod[\"main\"].with_attr(\"global_symbol\", mod_str)\n",
    "    gv = MyMod2.get_global_var(mod_str)\n",
    "    MyMod2.update_func(gv, new_func)"
   ]
  },
  {
   "cell_type": "code",
   "execution_count": 23,
   "metadata": {},
   "outputs": [],
   "source": [
    "data_nd = np.random.rand(1,3,244,244)\n",
    "data_nd = data_nd.astype(np.float32)\n",
    "\n",
    "data_nd = tvm.nd.array(data_nd)"
   ]
  },
  {
   "cell_type": "code",
   "execution_count": 24,
   "metadata": {},
   "outputs": [],
   "source": [
    "dev = tvm.device(\"llvm  --num-cores=8\")"
   ]
  },
  {
   "cell_type": "code",
   "execution_count": 25,
   "metadata": {},
   "outputs": [],
   "source": [
    "ex = relax.build(MyMod2, target=\"llvm  --num-cores=8\")\n",
    "vm = relax.VirtualMachine(ex, dev)\n"
   ]
  },
  {
   "cell_type": "code",
   "execution_count": 26,
   "metadata": {},
   "outputs": [
    {
     "name": "stdout",
     "output_type": "stream",
     "text": [
      "MyModuleWithParams2 Prediction: [463]\n"
     ]
    }
   ],
   "source": [
    "nd_res = vm[\"main\"](data_nd)\n",
    "\n",
    "pred_kind = np.argmax(nd_res.numpy(), axis=1)\n",
    "print(\"MyModuleWithParams2 Prediction:\",pred_kind)"
   ]
  },
  {
   "cell_type": "code",
   "execution_count": 36,
   "metadata": {},
   "outputs": [
    {
     "name": "stdout",
     "output_type": "stream",
     "text": [
      "MyModuleWithParams time-cost: 79.6973 ms\n"
     ]
    }
   ],
   "source": [
    "ftimer = vm.module.time_evaluator(\"main\", dev, number=10)\n",
    "\n",
    "print(\"MyModuleWithParams time-cost: %g ms\" % (ftimer(data_nd).mean * 1000))"
   ]
  },
  {
   "cell_type": "code",
   "execution_count": 33,
   "metadata": {},
   "outputs": [],
   "source": [
    "MyMod1 = relax.transform.BindParams(\"main\", nd_params)(mod)\n",
    "ex2 = relax.build(MyMod1, target=\"llvm  --num-cores=8\")\n",
    "vm2 = relax.VirtualMachine(ex2, dev)"
   ]
  },
  {
   "cell_type": "code",
   "execution_count": 34,
   "metadata": {},
   "outputs": [
    {
     "name": "stdout",
     "output_type": "stream",
     "text": [
      "MyModuleWithParams2 Prediction: [463]\n"
     ]
    }
   ],
   "source": [
    "nd_res = vm2[\"main\"](data_nd)\n",
    "\n",
    "pred_kind = np.argmax(nd_res.numpy(), axis=1)\n",
    "print(\"MyModuleWithParams2 Prediction:\",pred_kind)"
   ]
  },
  {
   "cell_type": "code",
   "execution_count": 35,
   "metadata": {},
   "outputs": [
    {
     "name": "stdout",
     "output_type": "stream",
     "text": [
      "MyModuleWithParams time-cost: 4493.13 ms\n"
     ]
    }
   ],
   "source": [
    "ftimer = vm2.module.time_evaluator(\"main\", dev, number=10)\n",
    "\n",
    "print(\"MyModuleWithParams time-cost: %g ms\" % (ftimer(data_nd).mean * 1000))"
   ]
  },
  {
   "cell_type": "code",
   "execution_count": null,
   "metadata": {},
   "outputs": [],
   "source": []
  }
 ],
 "metadata": {
  "kernelspec": {
   "display_name": "torch",
   "language": "python",
   "name": "python3"
  },
  "language_info": {
   "codemirror_mode": {
    "name": "ipython",
    "version": 3
   },
   "file_extension": ".py",
   "mimetype": "text/x-python",
   "name": "python",
   "nbconvert_exporter": "python",
   "pygments_lexer": "ipython3",
   "version": "3.10.13"
  }
 },
 "nbformat": 4,
 "nbformat_minor": 2
}
